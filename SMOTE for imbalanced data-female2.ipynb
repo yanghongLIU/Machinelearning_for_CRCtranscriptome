{
 "cells": [
  {
   "cell_type": "code",
   "execution_count": 3,
   "metadata": {},
   "outputs": [],
   "source": [
    "import numpy as np\n",
    "import pandas as pd"
   ]
  },
  {
   "cell_type": "code",
   "execution_count": 4,
   "metadata": {},
   "outputs": [],
   "source": [
    "fe_boru=pd.read_csv('rlogfe.csv')"
   ]
  },
  {
   "cell_type": "code",
   "execution_count": 5,
   "metadata": {},
   "outputs": [
    {
     "data": {
      "text/plain": [
       "1    299\n",
       "0     28\n",
       "Name: outcome, dtype: int64"
      ]
     },
     "execution_count": 5,
     "metadata": {},
     "output_type": "execute_result"
    }
   ],
   "source": [
    "fe_boru.outcome.value_counts()"
   ]
  },
  {
   "cell_type": "code",
   "execution_count": 6,
   "metadata": {},
   "outputs": [
    {
     "data": {
      "text/html": [
       "<div>\n",
       "<style scoped>\n",
       "    .dataframe tbody tr th:only-of-type {\n",
       "        vertical-align: middle;\n",
       "    }\n",
       "\n",
       "    .dataframe tbody tr th {\n",
       "        vertical-align: top;\n",
       "    }\n",
       "\n",
       "    .dataframe thead th {\n",
       "        text-align: right;\n",
       "    }\n",
       "</style>\n",
       "<table border=\"1\" class=\"dataframe\">\n",
       "  <thead>\n",
       "    <tr style=\"text-align: right;\">\n",
       "      <th></th>\n",
       "      <th>outcome</th>\n",
       "      <th>KRT80</th>\n",
       "      <th>SCGN</th>\n",
       "      <th>CDH3</th>\n",
       "      <th>CEMIP</th>\n",
       "      <th>BEST4</th>\n",
       "      <th>ESM1</th>\n",
       "      <th>GLP2R</th>\n",
       "      <th>OTOP2</th>\n",
       "      <th>SCARA5</th>\n",
       "      <th>...</th>\n",
       "      <th>SLC30A10</th>\n",
       "      <th>SLC25A23</th>\n",
       "      <th>TMEM100</th>\n",
       "      <th>TMEM253</th>\n",
       "      <th>GUCA2A</th>\n",
       "      <th>PLP1</th>\n",
       "      <th>SPIB</th>\n",
       "      <th>CADM3</th>\n",
       "      <th>PLPP1</th>\n",
       "      <th>KRT24</th>\n",
       "    </tr>\n",
       "  </thead>\n",
       "  <tbody>\n",
       "    <tr>\n",
       "      <th>0</th>\n",
       "      <td>1</td>\n",
       "      <td>11.931829</td>\n",
       "      <td>3.059055</td>\n",
       "      <td>12.616037</td>\n",
       "      <td>12.599462</td>\n",
       "      <td>6.174449</td>\n",
       "      <td>7.169737</td>\n",
       "      <td>5.094664</td>\n",
       "      <td>3.059055</td>\n",
       "      <td>7.604472</td>\n",
       "      <td>...</td>\n",
       "      <td>4.420463</td>\n",
       "      <td>11.768730</td>\n",
       "      <td>1.265924</td>\n",
       "      <td>5.263310</td>\n",
       "      <td>7.507449</td>\n",
       "      <td>5.094664</td>\n",
       "      <td>3.677475</td>\n",
       "      <td>3.059055</td>\n",
       "      <td>9.569704</td>\n",
       "      <td>1.265924</td>\n",
       "    </tr>\n",
       "    <tr>\n",
       "      <th>1</th>\n",
       "      <td>1</td>\n",
       "      <td>10.204798</td>\n",
       "      <td>3.589669</td>\n",
       "      <td>11.413810</td>\n",
       "      <td>11.094808</td>\n",
       "      <td>4.833274</td>\n",
       "      <td>8.301505</td>\n",
       "      <td>5.164854</td>\n",
       "      <td>2.908608</td>\n",
       "      <td>6.515436</td>\n",
       "      <td>...</td>\n",
       "      <td>2.247362</td>\n",
       "      <td>10.884379</td>\n",
       "      <td>4.477869</td>\n",
       "      <td>4.199496</td>\n",
       "      <td>7.642718</td>\n",
       "      <td>4.259772</td>\n",
       "      <td>4.999964</td>\n",
       "      <td>4.833274</td>\n",
       "      <td>9.035718</td>\n",
       "      <td>1.265924</td>\n",
       "    </tr>\n",
       "    <tr>\n",
       "      <th>2</th>\n",
       "      <td>1</td>\n",
       "      <td>9.281589</td>\n",
       "      <td>5.049195</td>\n",
       "      <td>11.603694</td>\n",
       "      <td>12.061467</td>\n",
       "      <td>4.793745</td>\n",
       "      <td>6.954222</td>\n",
       "      <td>4.593755</td>\n",
       "      <td>3.916945</td>\n",
       "      <td>4.884082</td>\n",
       "      <td>...</td>\n",
       "      <td>2.471627</td>\n",
       "      <td>11.058882</td>\n",
       "      <td>4.227935</td>\n",
       "      <td>5.265790</td>\n",
       "      <td>9.506518</td>\n",
       "      <td>4.081150</td>\n",
       "      <td>6.681396</td>\n",
       "      <td>4.081150</td>\n",
       "      <td>9.719452</td>\n",
       "      <td>1.265924</td>\n",
       "    </tr>\n",
       "    <tr>\n",
       "      <th>3</th>\n",
       "      <td>1</td>\n",
       "      <td>8.796657</td>\n",
       "      <td>3.331911</td>\n",
       "      <td>10.615035</td>\n",
       "      <td>13.135689</td>\n",
       "      <td>6.201120</td>\n",
       "      <td>7.666343</td>\n",
       "      <td>4.975577</td>\n",
       "      <td>4.209370</td>\n",
       "      <td>7.442664</td>\n",
       "      <td>...</td>\n",
       "      <td>3.498091</td>\n",
       "      <td>10.392663</td>\n",
       "      <td>4.677310</td>\n",
       "      <td>6.005125</td>\n",
       "      <td>8.977852</td>\n",
       "      <td>3.498091</td>\n",
       "      <td>4.537911</td>\n",
       "      <td>2.915227</td>\n",
       "      <td>9.250811</td>\n",
       "      <td>1.265924</td>\n",
       "    </tr>\n",
       "    <tr>\n",
       "      <th>4</th>\n",
       "      <td>1</td>\n",
       "      <td>9.517437</td>\n",
       "      <td>1.892910</td>\n",
       "      <td>12.067773</td>\n",
       "      <td>12.129539</td>\n",
       "      <td>6.261376</td>\n",
       "      <td>5.840656</td>\n",
       "      <td>3.864255</td>\n",
       "      <td>1.265924</td>\n",
       "      <td>3.211085</td>\n",
       "      <td>...</td>\n",
       "      <td>3.910455</td>\n",
       "      <td>11.095175</td>\n",
       "      <td>2.955137</td>\n",
       "      <td>5.680822</td>\n",
       "      <td>5.530132</td>\n",
       "      <td>2.145905</td>\n",
       "      <td>2.955137</td>\n",
       "      <td>1.892910</td>\n",
       "      <td>8.764261</td>\n",
       "      <td>1.265924</td>\n",
       "    </tr>\n",
       "  </tbody>\n",
       "</table>\n",
       "<p>5 rows × 62 columns</p>\n",
       "</div>"
      ],
      "text/plain": [
       "   outcome      KRT80      SCGN       CDH3      CEMIP     BEST4      ESM1  \\\n",
       "0        1  11.931829  3.059055  12.616037  12.599462  6.174449  7.169737   \n",
       "1        1  10.204798  3.589669  11.413810  11.094808  4.833274  8.301505   \n",
       "2        1   9.281589  5.049195  11.603694  12.061467  4.793745  6.954222   \n",
       "3        1   8.796657  3.331911  10.615035  13.135689  6.201120  7.666343   \n",
       "4        1   9.517437  1.892910  12.067773  12.129539  6.261376  5.840656   \n",
       "\n",
       "      GLP2R     OTOP2    SCARA5    ...     SLC30A10   SLC25A23   TMEM100  \\\n",
       "0  5.094664  3.059055  7.604472    ...     4.420463  11.768730  1.265924   \n",
       "1  5.164854  2.908608  6.515436    ...     2.247362  10.884379  4.477869   \n",
       "2  4.593755  3.916945  4.884082    ...     2.471627  11.058882  4.227935   \n",
       "3  4.975577  4.209370  7.442664    ...     3.498091  10.392663  4.677310   \n",
       "4  3.864255  1.265924  3.211085    ...     3.910455  11.095175  2.955137   \n",
       "\n",
       "    TMEM253    GUCA2A      PLP1      SPIB     CADM3     PLPP1     KRT24  \n",
       "0  5.263310  7.507449  5.094664  3.677475  3.059055  9.569704  1.265924  \n",
       "1  4.199496  7.642718  4.259772  4.999964  4.833274  9.035718  1.265924  \n",
       "2  5.265790  9.506518  4.081150  6.681396  4.081150  9.719452  1.265924  \n",
       "3  6.005125  8.977852  3.498091  4.537911  2.915227  9.250811  1.265924  \n",
       "4  5.680822  5.530132  2.145905  2.955137  1.892910  8.764261  1.265924  \n",
       "\n",
       "[5 rows x 62 columns]"
      ]
     },
     "execution_count": 6,
     "metadata": {},
     "output_type": "execute_result"
    }
   ],
   "source": [
    "fe_boru.head()"
   ]
  },
  {
   "cell_type": "code",
   "execution_count": 7,
   "metadata": {},
   "outputs": [],
   "source": [
    "from sklearn.model_selection import train_test_split\n",
    "from sklearn.ensemble import AdaBoostClassifier\n",
    "from sklearn.metrics import classification_report\n",
    "from sklearn.metrics import average_precision_score\n",
    "from sklearn.metrics import precision_recall_curve\n",
    "from sklearn.utils import resample\n",
    "from imblearn.over_sampling import SMOTE\n",
    "from collections import Counter\n",
    "import seaborn as sns\n",
    "import smote\n"
   ]
  },
  {
   "cell_type": "markdown",
   "metadata": {},
   "source": [
    "## PCA"
   ]
  },
  {
   "cell_type": "code",
   "execution_count": 6,
   "metadata": {},
   "outputs": [],
   "source": [
    "#pca\n",
    "from sklearn.preprocessing import StandardScaler\n",
    "scaler=StandardScaler()\n",
    "df=fe_boru.drop('outcome', axis=1)\n",
    "scaler.fit(df)\n",
    "scaled_data=scaler.transform(df)"
   ]
  },
  {
   "cell_type": "code",
   "execution_count": 7,
   "metadata": {},
   "outputs": [],
   "source": [
    "from sklearn.decomposition import PCA\n",
    "import matplotlib.pyplot as plt\n",
    "import seaborn as sns\n",
    "pca=PCA(n_components=5)\n",
    "pca.fit(scaled_data)\n",
    "x_pca=pca.transform(scaled_data)"
   ]
  },
  {
   "cell_type": "code",
   "execution_count": 8,
   "metadata": {},
   "outputs": [],
   "source": [
    "t=np.asarray(fe_boru.outcome)\n",
    "t=t.astype(object)"
   ]
  },
  {
   "cell_type": "code",
   "execution_count": 9,
   "metadata": {},
   "outputs": [],
   "source": [
    "for i in range(len(t)):\n",
    "    if t[i]==1:\n",
    "        t[i]='cancer'\n",
    "    else:\n",
    "        t[i]='non-cancer'\n",
    "    "
   ]
  },
  {
   "cell_type": "code",
   "execution_count": 10,
   "metadata": {},
   "outputs": [],
   "source": [
    "pc_df=pd.DataFrame(data=x_pca,columns=['PC1','PC2','PC3','PC4','PC5'])\n",
    "pc_df['cluster']=t\n"
   ]
  },
  {
   "cell_type": "code",
   "execution_count": null,
   "metadata": {},
   "outputs": [],
   "source": []
  },
  {
   "cell_type": "code",
   "execution_count": 11,
   "metadata": {},
   "outputs": [
    {
     "data": {
      "text/plain": [
       "(327, 61)"
      ]
     },
     "execution_count": 11,
     "metadata": {},
     "output_type": "execute_result"
    }
   ],
   "source": [
    "scaled_data.shape"
   ]
  },
  {
   "cell_type": "code",
   "execution_count": 12,
   "metadata": {},
   "outputs": [
    {
     "data": {
      "text/plain": [
       "(327, 5)"
      ]
     },
     "execution_count": 12,
     "metadata": {},
     "output_type": "execute_result"
    }
   ],
   "source": [
    "x_pca.shape"
   ]
  },
  {
   "cell_type": "code",
   "execution_count": 13,
   "metadata": {},
   "outputs": [],
   "source": [
    "var= pca.explained_variance_ratio_"
   ]
  },
  {
   "cell_type": "code",
   "execution_count": 14,
   "metadata": {},
   "outputs": [
    {
     "data": {
      "text/plain": [
       "<matplotlib.axes._subplots.AxesSubplot at 0x28ddc368dd8>"
      ]
     },
     "execution_count": 14,
     "metadata": {},
     "output_type": "execute_result"
    },
    {
     "data": {
      "image/png": "[encoded data removed]",
      "text/plain": [
       "<Figure size 432x288 with 1 Axes>"
      ]
     },
     "metadata": {
      "needs_background": "light"
     },
     "output_type": "display_data"
    }
   ],
   "source": [
    "ex =pd.DataFrame({'Eigenvalue coverage rate':var,'Principle Component':['PC1','PC2','PC3','PC4','PC5']})\n",
    "sns.barplot(x='Principle Component',y='Eigenvalue coverage rate',data=ex)"
   ]
  },
  {
   "cell_type": "code",
   "execution_count": 16,
   "metadata": {},
   "outputs": [
    {
     "data": {
      "text/plain": [
       "<seaborn.axisgrid.FacetGrid at 0x28de019ee48>"
      ]
     },
     "execution_count": 16,
     "metadata": {},
     "output_type": "execute_result"
    },
    {
     "data": {
      "image/png": "[encoded data removed]",
      "text/plain": [
       "<Figure size 452.125x360 with 1 Axes>"
      ]
     },
     "metadata": {
      "needs_background": "light"
     },
     "output_type": "display_data"
    }
   ],
   "source": [
    "sns.lmplot(x='PC1',y='PC2', data=pc_df,hue='cluster',legend=True, palette='RdPu_r',\n",
    "scatter_kws={\"s\": 80})"
   ]
  },
  {
   "cell_type": "code",
   "execution_count": 17,
   "metadata": {},
   "outputs": [],
   "source": [
    "df_com = pd.DataFrame(pca.components_[0:2,:], columns=df.columns)"
   ]
  },
  {
   "cell_type": "code",
   "execution_count": 19,
   "metadata": {},
   "outputs": [
    {
     "data": {
      "text/html": [
       "<div>\n",
       "<style scoped>\n",
       "    .dataframe tbody tr th:only-of-type {\n",
       "        vertical-align: middle;\n",
       "    }\n",
       "\n",
       "    .dataframe tbody tr th {\n",
       "        vertical-align: top;\n",
       "    }\n",
       "\n",
       "    .dataframe thead th {\n",
       "        text-align: right;\n",
       "    }\n",
       "</style>\n",
       "<table border=\"1\" class=\"dataframe\">\n",
       "  <thead>\n",
       "    <tr style=\"text-align: right;\">\n",
       "      <th></th>\n",
       "      <th>0</th>\n",
       "      <th>1</th>\n",
       "    </tr>\n",
       "  </thead>\n",
       "  <tbody>\n",
       "    <tr>\n",
       "      <th>KRT80</th>\n",
       "      <td>-0.152605</td>\n",
       "      <td>0.087057</td>\n",
       "    </tr>\n",
       "    <tr>\n",
       "      <th>SCGN</th>\n",
       "      <td>0.142855</td>\n",
       "      <td>0.065298</td>\n",
       "    </tr>\n",
       "    <tr>\n",
       "      <th>CDH3</th>\n",
       "      <td>-0.160822</td>\n",
       "      <td>0.024945</td>\n",
       "    </tr>\n",
       "    <tr>\n",
       "      <th>CEMIP</th>\n",
       "      <td>-0.148371</td>\n",
       "      <td>0.079199</td>\n",
       "    </tr>\n",
       "    <tr>\n",
       "      <th>BEST4</th>\n",
       "      <td>0.139360</td>\n",
       "      <td>-0.119286</td>\n",
       "    </tr>\n",
       "    <tr>\n",
       "      <th>ESM1</th>\n",
       "      <td>-0.151991</td>\n",
       "      <td>0.106761</td>\n",
       "    </tr>\n",
       "    <tr>\n",
       "      <th>GLP2R</th>\n",
       "      <td>0.127372</td>\n",
       "      <td>0.143236</td>\n",
       "    </tr>\n",
       "    <tr>\n",
       "      <th>OTOP2</th>\n",
       "      <td>0.165206</td>\n",
       "      <td>-0.126459</td>\n",
       "    </tr>\n",
       "    <tr>\n",
       "      <th>SCARA5</th>\n",
       "      <td>0.139345</td>\n",
       "      <td>0.081040</td>\n",
       "    </tr>\n",
       "    <tr>\n",
       "      <th>ETV4</th>\n",
       "      <td>-0.157074</td>\n",
       "      <td>0.030774</td>\n",
       "    </tr>\n",
       "    <tr>\n",
       "      <th>BMP3</th>\n",
       "      <td>0.151270</td>\n",
       "      <td>0.067278</td>\n",
       "    </tr>\n",
       "    <tr>\n",
       "      <th>INHBA</th>\n",
       "      <td>-0.123599</td>\n",
       "      <td>0.210162</td>\n",
       "    </tr>\n",
       "    <tr>\n",
       "      <th>WNT2</th>\n",
       "      <td>-0.131844</td>\n",
       "      <td>0.192421</td>\n",
       "    </tr>\n",
       "    <tr>\n",
       "      <th>TMIGD1</th>\n",
       "      <td>0.153375</td>\n",
       "      <td>-0.137803</td>\n",
       "    </tr>\n",
       "    <tr>\n",
       "      <th>VSTM2A</th>\n",
       "      <td>0.146524</td>\n",
       "      <td>-0.038775</td>\n",
       "    </tr>\n",
       "    <tr>\n",
       "      <th>ASPA</th>\n",
       "      <td>0.129712</td>\n",
       "      <td>0.160342</td>\n",
       "    </tr>\n",
       "    <tr>\n",
       "      <th>PCSK2</th>\n",
       "      <td>0.147214</td>\n",
       "      <td>0.150424</td>\n",
       "    </tr>\n",
       "    <tr>\n",
       "      <th>CPNE7</th>\n",
       "      <td>-0.137577</td>\n",
       "      <td>0.001693</td>\n",
       "    </tr>\n",
       "    <tr>\n",
       "      <th>IL6R</th>\n",
       "      <td>0.103683</td>\n",
       "      <td>0.053863</td>\n",
       "    </tr>\n",
       "    <tr>\n",
       "      <th>LEC3B</th>\n",
       "      <td>0.128366</td>\n",
       "      <td>0.157332</td>\n",
       "    </tr>\n",
       "    <tr>\n",
       "      <th>TMEM220</th>\n",
       "      <td>0.106415</td>\n",
       "      <td>-0.003826</td>\n",
       "    </tr>\n",
       "    <tr>\n",
       "      <th>GLTP</th>\n",
       "      <td>-0.022789</td>\n",
       "      <td>-0.098852</td>\n",
       "    </tr>\n",
       "    <tr>\n",
       "      <th>LGI1</th>\n",
       "      <td>0.148222</td>\n",
       "      <td>0.162112</td>\n",
       "    </tr>\n",
       "    <tr>\n",
       "      <th>ENPP6</th>\n",
       "      <td>0.125958</td>\n",
       "      <td>0.079657</td>\n",
       "    </tr>\n",
       "    <tr>\n",
       "      <th>SLC51B</th>\n",
       "      <td>0.103321</td>\n",
       "      <td>-0.103718</td>\n",
       "    </tr>\n",
       "    <tr>\n",
       "      <th>SLC25A34</th>\n",
       "      <td>0.128153</td>\n",
       "      <td>-0.100880</td>\n",
       "    </tr>\n",
       "    <tr>\n",
       "      <th>PYY</th>\n",
       "      <td>0.141541</td>\n",
       "      <td>-0.112762</td>\n",
       "    </tr>\n",
       "    <tr>\n",
       "      <th>CA7</th>\n",
       "      <td>0.136531</td>\n",
       "      <td>-0.152718</td>\n",
       "    </tr>\n",
       "    <tr>\n",
       "      <th>RXRG</th>\n",
       "      <td>0.111247</td>\n",
       "      <td>0.148075</td>\n",
       "    </tr>\n",
       "    <tr>\n",
       "      <th>METTL7A</th>\n",
       "      <td>0.077275</td>\n",
       "      <td>0.042394</td>\n",
       "    </tr>\n",
       "    <tr>\n",
       "      <th>SGCG</th>\n",
       "      <td>0.110976</td>\n",
       "      <td>0.134838</td>\n",
       "    </tr>\n",
       "    <tr>\n",
       "      <th>ETFDH</th>\n",
       "      <td>0.019513</td>\n",
       "      <td>-0.101973</td>\n",
       "    </tr>\n",
       "    <tr>\n",
       "      <th>HPSE2</th>\n",
       "      <td>0.116887</td>\n",
       "      <td>0.173350</td>\n",
       "    </tr>\n",
       "    <tr>\n",
       "      <th>PRKG2</th>\n",
       "      <td>0.107847</td>\n",
       "      <td>0.054945</td>\n",
       "    </tr>\n",
       "    <tr>\n",
       "      <th>SLC4A4</th>\n",
       "      <td>0.124277</td>\n",
       "      <td>-0.123734</td>\n",
       "    </tr>\n",
       "    <tr>\n",
       "      <th>GFRA2</th>\n",
       "      <td>0.124934</td>\n",
       "      <td>0.148197</td>\n",
       "    </tr>\n",
       "    <tr>\n",
       "      <th>CDKN2B-AS1</th>\n",
       "      <td>0.144814</td>\n",
       "      <td>-0.135579</td>\n",
       "    </tr>\n",
       "    <tr>\n",
       "      <th>FAM135B</th>\n",
       "      <td>0.137562</td>\n",
       "      <td>0.024792</td>\n",
       "    </tr>\n",
       "    <tr>\n",
       "      <th>FOXQ1</th>\n",
       "      <td>-0.140170</td>\n",
       "      <td>0.076592</td>\n",
       "    </tr>\n",
       "    <tr>\n",
       "      <th>TSPAN7</th>\n",
       "      <td>0.077183</td>\n",
       "      <td>0.002027</td>\n",
       "    </tr>\n",
       "    <tr>\n",
       "      <th>ABCA8</th>\n",
       "      <td>0.145945</td>\n",
       "      <td>0.191701</td>\n",
       "    </tr>\n",
       "    <tr>\n",
       "      <th>LINC00974</th>\n",
       "      <td>0.138830</td>\n",
       "      <td>-0.149857</td>\n",
       "    </tr>\n",
       "    <tr>\n",
       "      <th>LINC00682</th>\n",
       "      <td>0.130718</td>\n",
       "      <td>0.131982</td>\n",
       "    </tr>\n",
       "    <tr>\n",
       "      <th>RERGL</th>\n",
       "      <td>0.139752</td>\n",
       "      <td>0.131851</td>\n",
       "    </tr>\n",
       "    <tr>\n",
       "      <th>C2orf88</th>\n",
       "      <td>0.120059</td>\n",
       "      <td>-0.135239</td>\n",
       "    </tr>\n",
       "    <tr>\n",
       "      <th>LPAR1</th>\n",
       "      <td>0.066782</td>\n",
       "      <td>0.189539</td>\n",
       "    </tr>\n",
       "    <tr>\n",
       "      <th>GCG</th>\n",
       "      <td>0.140483</td>\n",
       "      <td>-0.091867</td>\n",
       "    </tr>\n",
       "    <tr>\n",
       "      <th>CLDN1</th>\n",
       "      <td>-0.153414</td>\n",
       "      <td>0.114399</td>\n",
       "    </tr>\n",
       "    <tr>\n",
       "      <th>GRIN2D</th>\n",
       "      <td>-0.149019</td>\n",
       "      <td>-0.009826</td>\n",
       "    </tr>\n",
       "    <tr>\n",
       "      <th>RDH5</th>\n",
       "      <td>0.057307</td>\n",
       "      <td>-0.070146</td>\n",
       "    </tr>\n",
       "    <tr>\n",
       "      <th>OTOP3</th>\n",
       "      <td>0.140777</td>\n",
       "      <td>-0.105754</td>\n",
       "    </tr>\n",
       "    <tr>\n",
       "      <th>SLC30A10</th>\n",
       "      <td>0.138928</td>\n",
       "      <td>-0.143551</td>\n",
       "    </tr>\n",
       "    <tr>\n",
       "      <th>SLC25A23</th>\n",
       "      <td>-0.002569</td>\n",
       "      <td>-0.126312</td>\n",
       "    </tr>\n",
       "    <tr>\n",
       "      <th>TMEM100</th>\n",
       "      <td>0.128085</td>\n",
       "      <td>0.241726</td>\n",
       "    </tr>\n",
       "    <tr>\n",
       "      <th>TMEM253</th>\n",
       "      <td>0.083168</td>\n",
       "      <td>-0.196160</td>\n",
       "    </tr>\n",
       "    <tr>\n",
       "      <th>GUCA2A</th>\n",
       "      <td>0.127855</td>\n",
       "      <td>-0.148905</td>\n",
       "    </tr>\n",
       "    <tr>\n",
       "      <th>PLP1</th>\n",
       "      <td>0.139553</td>\n",
       "      <td>0.196600</td>\n",
       "    </tr>\n",
       "    <tr>\n",
       "      <th>SPIB</th>\n",
       "      <td>0.133506</td>\n",
       "      <td>-0.038395</td>\n",
       "    </tr>\n",
       "    <tr>\n",
       "      <th>CADM3</th>\n",
       "      <td>0.135212</td>\n",
       "      <td>0.207814</td>\n",
       "    </tr>\n",
       "    <tr>\n",
       "      <th>PLPP1</th>\n",
       "      <td>0.058677</td>\n",
       "      <td>0.236706</td>\n",
       "    </tr>\n",
       "    <tr>\n",
       "      <th>KRT24</th>\n",
       "      <td>0.148731</td>\n",
       "      <td>0.039630</td>\n",
       "    </tr>\n",
       "  </tbody>\n",
       "</table>\n",
       "</div>"
      ],
      "text/plain": [
       "                   0         1\n",
       "KRT80      -0.152605  0.087057\n",
       "SCGN        0.142855  0.065298\n",
       "CDH3       -0.160822  0.024945\n",
       "CEMIP      -0.148371  0.079199\n",
       "BEST4       0.139360 -0.119286\n",
       "ESM1       -0.151991  0.106761\n",
       "GLP2R       0.127372  0.143236\n",
       "OTOP2       0.165206 -0.126459\n",
       "SCARA5      0.139345  0.081040\n",
       "ETV4       -0.157074  0.030774\n",
       "BMP3        0.151270  0.067278\n",
       "INHBA      -0.123599  0.210162\n",
       "WNT2       -0.131844  0.192421\n",
       "TMIGD1      0.153375 -0.137803\n",
       "VSTM2A      0.146524 -0.038775\n",
       "ASPA        0.129712  0.160342\n",
       "PCSK2       0.147214  0.150424\n",
       "CPNE7      -0.137577  0.001693\n",
       "IL6R        0.103683  0.053863\n",
       "LEC3B       0.128366  0.157332\n",
       "TMEM220     0.106415 -0.003826\n",
       "GLTP       -0.022789 -0.098852\n",
       "LGI1        0.148222  0.162112\n",
       "ENPP6       0.125958  0.079657\n",
       "SLC51B      0.103321 -0.103718\n",
       "SLC25A34    0.128153 -0.100880\n",
       "PYY         0.141541 -0.112762\n",
       "CA7         0.136531 -0.152718\n",
       "RXRG        0.111247  0.148075\n",
       "METTL7A     0.077275  0.042394\n",
       "SGCG        0.110976  0.134838\n",
       "ETFDH       0.019513 -0.101973\n",
       "HPSE2       0.116887  0.173350\n",
       "PRKG2       0.107847  0.054945\n",
       "SLC4A4      0.124277 -0.123734\n",
       "GFRA2       0.124934  0.148197\n",
       "CDKN2B-AS1  0.144814 -0.135579\n",
       "FAM135B     0.137562  0.024792\n",
       "FOXQ1      -0.140170  0.076592\n",
       "TSPAN7      0.077183  0.002027\n",
       "ABCA8       0.145945  0.191701\n",
       "LINC00974   0.138830 -0.149857\n",
       "LINC00682   0.130718  0.131982\n",
       "RERGL       0.139752  0.131851\n",
       "C2orf88     0.120059 -0.135239\n",
       "LPAR1       0.066782  0.189539\n",
       "GCG         0.140483 -0.091867\n",
       "CLDN1      -0.153414  0.114399\n",
       "GRIN2D     -0.149019 -0.009826\n",
       "RDH5        0.057307 -0.070146\n",
       "OTOP3       0.140777 -0.105754\n",
       "SLC30A10    0.138928 -0.143551\n",
       "SLC25A23   -0.002569 -0.126312\n",
       "TMEM100     0.128085  0.241726\n",
       "TMEM253     0.083168 -0.196160\n",
       "GUCA2A      0.127855 -0.148905\n",
       "PLP1        0.139553  0.196600\n",
       "SPIB        0.133506 -0.038395\n",
       "CADM3       0.135212  0.207814\n",
       "PLPP1       0.058677  0.236706\n",
       "KRT24       0.148731  0.039630"
      ]
     },
     "execution_count": 19,
     "metadata": {},
     "output_type": "execute_result"
    }
   ],
   "source": [
    "pd.set_option(\"display.max_rows\", 109)\n",
    "df_com.T"
   ]
  },
  {
   "cell_type": "code",
   "execution_count": 20,
   "metadata": {},
   "outputs": [
    {
     "data": {
      "text/plain": [
       "<matplotlib.axes._subplots.AxesSubplot at 0x28de020d0b8>"
      ]
     },
     "execution_count": 20,
     "metadata": {},
     "output_type": "execute_result"
    },
    {
     "data": {
      "image/png": "[encoded data removed]",
      "text/plain": [
       "<Figure size 864x432 with 2 Axes>"
      ]
     },
     "metadata": {
      "needs_background": "light"
     },
     "output_type": "display_data"
    }
   ],
   "source": [
    "import seaborn as sns\n",
    "plt.figure(figsize=(12,6))\n",
    "sns.heatmap(df_com,cmap=\"coolwarm\")"
   ]
  },
  {
   "cell_type": "code",
   "execution_count": null,
   "metadata": {},
   "outputs": [],
   "source": []
  },
  {
   "cell_type": "code",
   "execution_count": null,
   "metadata": {},
   "outputs": [],
   "source": []
  },
  {
   "cell_type": "markdown",
   "metadata": {},
   "source": [
    "## the ML methods part"
   ]
  },
  {
   "cell_type": "code",
   "execution_count": 8,
   "metadata": {},
   "outputs": [],
   "source": [
    "X0=fe_boru[fe_boru['outcome']==0]\n",
    "#X0=X0.reindex(np.random.permutation(X0.index))"
   ]
  },
  {
   "cell_type": "code",
   "execution_count": 9,
   "metadata": {},
   "outputs": [],
   "source": [
    "X1=fe_boru[fe_boru['outcome']==1]\n",
    "#X1=X1.reindex(np.random.permutation(X1.index))"
   ]
  },
  {
   "cell_type": "code",
   "execution_count": 10,
   "metadata": {},
   "outputs": [],
   "source": [
    "X00=X0.drop('outcome',axis=1)\n",
    "y00=X0['outcome']\n",
    "X_train1, X_test1, y_train1, y_test1 = train_test_split(X00, y00, \n",
    "                                                    test_size=0.33, \n",
    "                                                    random_state=101)"
   ]
  },
  {
   "cell_type": "code",
   "execution_count": 11,
   "metadata": {},
   "outputs": [],
   "source": [
    "X11=X1.drop('outcome',axis=1)\n",
    "y11=X1['outcome']\n",
    "X_train0, X_test0, y_train0, y_test0 = train_test_split(X11, y11, \n",
    "                                                    test_size=0.33, \n",
    "                                                    random_state=101)"
   ]
  },
  {
   "cell_type": "code",
   "execution_count": 12,
   "metadata": {},
   "outputs": [],
   "source": [
    "X_train=X_train1.append(pd.DataFrame(data=X_train0))\n",
    "X_test=X_test1.append(pd.DataFrame(data=X_test0))\n",
    "y_train=np.concatenate([y_train1,y_train0])\n",
    "y_test=np.concatenate([y_test1,y_test0])"
   ]
  },
  {
   "cell_type": "markdown",
   "metadata": {},
   "source": [
    "# testing with the imbalanced dataset"
   ]
  },
  {
   "cell_type": "code",
   "execution_count": 11,
   "metadata": {},
   "outputs": [],
   "source": [
    "fe_boru=fe_boru.reindex(np.random.permutation(fe_boru.index))\n",
    "X = fe_boru.drop('outcome', axis=1)\n",
    "y=fe_boru['outcome']"
   ]
  },
  {
   "cell_type": "code",
   "execution_count": 27,
   "metadata": {},
   "outputs": [],
   "source": [
    "X_train, X_test, y_train, y_test = train_test_split(X, y, test_size=0.33, random_state=101)"
   ]
  },
  {
   "cell_type": "code",
   "execution_count": 28,
   "metadata": {},
   "outputs": [
    {
     "name": "stdout",
     "output_type": "stream",
     "text": [
      "[(0, 9), (1, 99)]\n"
     ]
    }
   ],
   "source": [
    "from collections import Counter\n",
    "print(sorted(Counter(y_test).items()))\n"
   ]
  },
  {
   "cell_type": "code",
   "execution_count": 29,
   "metadata": {},
   "outputs": [
    {
     "data": {
      "text/plain": [
       "RandomForestClassifier(bootstrap=True, class_weight=None, criterion='gini',\n",
       "            max_depth=None, max_features='auto', max_leaf_nodes=None,\n",
       "            min_impurity_decrease=0.0, min_impurity_split=None,\n",
       "            min_samples_leaf=1, min_samples_split=2,\n",
       "            min_weight_fraction_leaf=0.0, n_estimators=20, n_jobs=1,\n",
       "            oob_score=False, random_state=50, verbose=0, warm_start=False)"
      ]
     },
     "execution_count": 29,
     "metadata": {},
     "output_type": "execute_result"
    }
   ],
   "source": [
    "from sklearn.ensemble import RandomForestClassifier\n",
    "rf=RandomForestClassifier(n_estimators=20,random_state=50)\n",
    "rf.fit(X_train,y_train)"
   ]
  },
  {
   "cell_type": "code",
   "execution_count": 30,
   "metadata": {},
   "outputs": [],
   "source": [
    "pred_test=rf.predict(X_test)"
   ]
  },
  {
   "cell_type": "code",
   "execution_count": 31,
   "metadata": {},
   "outputs": [],
   "source": [
    "from sklearn.metrics import classification_report, confusion_matrix"
   ]
  },
  {
   "cell_type": "code",
   "execution_count": 32,
   "metadata": {},
   "outputs": [
    {
     "name": "stdout",
     "output_type": "stream",
     "text": [
      "             precision    recall  f1-score   support\n",
      "\n",
      "          0       0.90      1.00      0.95         9\n",
      "          1       1.00      0.99      0.99        99\n",
      "\n",
      "avg / total       0.99      0.99      0.99       108\n",
      "\n",
      "\n",
      "\n",
      "[[ 9  0]\n",
      " [ 1 98]]\n"
     ]
    }
   ],
   "source": [
    "print(classification_report(y_test,pred_test))\n",
    "print('\\n')\n",
    "print(confusion_matrix(y_test,pred_test))"
   ]
  },
  {
   "cell_type": "code",
   "execution_count": 33,
   "metadata": {},
   "outputs": [
    {
     "name": "stdout",
     "output_type": "stream",
     "text": [
      "[0.1        0.         0.         0.         0.01403306 0.2\n",
      " 0.         0.         0.         0.05       0.04059278 0.15251338\n",
      " 0.1        0.0021709  0.03569613 0.         0.         0.05\n",
      " 0.         0.         0.         0.         0.         0.\n",
      " 0.         0.         0.         0.         0.         0.\n",
      " 0.         0.         0.00232781 0.         0.         0.\n",
      " 0.         0.         0.05723632 0.         0.         0.0254702\n",
      " 0.01049673 0.         0.         0.00451456 0.         0.01465774\n",
      " 0.09480495 0.         0.         0.04013445 0.         0.\n",
      " 0.         0.         0.00261369 0.         0.00273729 0.\n",
      " 0.        ]\n"
     ]
    }
   ],
   "source": [
    "print(rf.feature_importances_)\n",
    "feature_imp = pd.Series(rf.feature_importances_,index=list(fe_boru.drop('outcome',axis=1).columns.values)).sort_values(ascending=False)"
   ]
  },
  {
   "cell_type": "code",
   "execution_count": 34,
   "metadata": {},
   "outputs": [
    {
     "data": {
      "image/png": "[encoded data removed]",
      "text/plain": [
       "<Figure size 720x720 with 1 Axes>"
      ]
     },
     "metadata": {
      "needs_background": "light"
     },
     "output_type": "display_data"
    }
   ],
   "source": [
    "import matplotlib.pyplot as plt\n",
    "import seaborn as sns\n",
    "%matplotlib inline\n",
    "plt.figure(figsize=(10,10))\n",
    "# Creating a bar plot\n",
    "sns.barplot(x=feature_imp, y=feature_imp.index)\n",
    "sns.set(font_scale=0.9)\n",
    "\n",
    "plt.xlabel('Feature Importance Score')\n",
    "plt.ylabel('Features')\n",
    "plt.title(\"Visualizing Important Features\")\n",
    "plt.show()\n",
    "plt.savefig('importance ranking for female')\n",
    "plt.close()\n"
   ]
  },
  {
   "cell_type": "code",
   "execution_count": null,
   "metadata": {},
   "outputs": [],
   "source": []
  },
  {
   "cell_type": "markdown",
   "metadata": {},
   "source": [
    "## adaboost with randomly over sampling"
   ]
  },
  {
   "cell_type": "code",
   "execution_count": 13,
   "metadata": {},
   "outputs": [
    {
     "name": "stdout",
     "output_type": "stream",
     "text": [
      "[(0, 200), (1, 200)]\n"
     ]
    }
   ],
   "source": [
    "#regular over sampling\n",
    "from imblearn.over_sampling import RandomOverSampler\n",
    "ros = RandomOverSampler(random_state=101)\n",
    "X_resampled, y_resampled = ros.fit_sample(X_train, y_train)\n",
    "from collections import Counter\n",
    "print(sorted(Counter(y_resampled).items()))\n"
   ]
  },
  {
   "cell_type": "code",
   "execution_count": 14,
   "metadata": {},
   "outputs": [],
   "source": [
    "model = AdaBoostClassifier(n_estimators=100, random_state=101)\n",
    "model.fit(X_resampled, y_resampled)\n",
    "y_over = model.predict(X_test)\n"
   ]
  },
  {
   "cell_type": "code",
   "execution_count": 15,
   "metadata": {},
   "outputs": [
    {
     "name": "stdout",
     "output_type": "stream",
     "text": [
      "             precision    recall  f1-score   support\n",
      "\n",
      "          0       0.90      0.90      0.90        10\n",
      "          1       0.99      0.99      0.99        99\n",
      "\n",
      "avg / total       0.98      0.98      0.98       109\n",
      "\n"
     ]
    }
   ],
   "source": [
    "print(classification_report(y_test, y_over))"
   ]
  },
  {
   "cell_type": "code",
   "execution_count": 16,
   "metadata": {},
   "outputs": [
    {
     "data": {
      "text/plain": [
       "array([[ 9,  1],\n",
       "       [ 1, 98]], dtype=int64)"
      ]
     },
     "execution_count": 16,
     "metadata": {},
     "output_type": "execute_result"
    }
   ],
   "source": [
    "from sklearn.metrics import confusion_matrix\n",
    "confusion_matrix(y_test, y_over)"
   ]
  },
  {
   "cell_type": "code",
   "execution_count": 17,
   "metadata": {},
   "outputs": [
    {
     "name": "stdout",
     "output_type": "stream",
     "text": [
      "0.944949494949495\n"
     ]
    },
    {
     "data": {
      "text/plain": [
       "Text(0.5, 0, 'False Positive Rate')"
      ]
     },
     "execution_count": 17,
     "metadata": {},
     "output_type": "execute_result"
    },
    {
     "data": {
      "image/png": "[encoded data removed]",
      "text/plain": [
       "<Figure size 720x720 with 1 Axes>"
      ]
     },
     "metadata": {
      "needs_background": "light"
     },
     "output_type": "display_data"
    }
   ],
   "source": [
    "from sklearn.metrics import roc_curve, auc\n",
    "false_positive_rate, true_positive_rate, thresholds = roc_curve(y_test, y_over)\n",
    "roc_auc = auc(false_positive_rate, true_positive_rate)\n",
    "print(roc_auc)\n",
    "\n",
    "import matplotlib.pyplot as plt\n",
    "%matplotlib inline\n",
    "\n",
    "plt.figure(figsize=(10,10))\n",
    "plt.title('Receiver Operating Characteristic')\n",
    "plt.plot(false_positive_rate,true_positive_rate, color='red',label = 'AUC = %0.2f' % roc_auc)\n",
    "plt.legend(loc = 'lower right')\n",
    "plt.plot([0, 1], [0, 1],linestyle='--')\n",
    "plt.axis('tight')\n",
    "plt.ylabel('True Positive Rate')\n",
    "plt.xlabel('False Positive Rate')"
   ]
  },
  {
   "cell_type": "code",
   "execution_count": null,
   "metadata": {},
   "outputs": [],
   "source": []
  },
  {
   "cell_type": "code",
   "execution_count": null,
   "metadata": {},
   "outputs": [],
   "source": []
  },
  {
   "cell_type": "code",
   "execution_count": null,
   "metadata": {},
   "outputs": [],
   "source": []
  },
  {
   "cell_type": "markdown",
   "metadata": {},
   "source": [
    "## randomly over sampling with random forests\n"
   ]
  },
  {
   "cell_type": "code",
   "execution_count": 18,
   "metadata": {},
   "outputs": [],
   "source": [
    "from sklearn.ensemble import RandomForestClassifier\n",
    "clf = RandomForestClassifier(n_estimators=100, max_depth=2,\n",
    "                               random_state=101)\n"
   ]
  },
  {
   "cell_type": "code",
   "execution_count": 19,
   "metadata": {},
   "outputs": [],
   "source": [
    "m2=clf.fit(X_resampled, y_resampled)"
   ]
  },
  {
   "cell_type": "code",
   "execution_count": 20,
   "metadata": {},
   "outputs": [],
   "source": [
    "y_pred=clf.predict(X_test)"
   ]
  },
  {
   "cell_type": "code",
   "execution_count": 21,
   "metadata": {},
   "outputs": [
    {
     "name": "stdout",
     "output_type": "stream",
     "text": [
      "             precision    recall  f1-score   support\n",
      "\n",
      "          0       1.00      1.00      1.00        10\n",
      "          1       1.00      1.00      1.00        99\n",
      "\n",
      "avg / total       1.00      1.00      1.00       109\n",
      "\n"
     ]
    }
   ],
   "source": [
    "print(classification_report(y_test, y_pred))"
   ]
  },
  {
   "cell_type": "code",
   "execution_count": 22,
   "metadata": {},
   "outputs": [
    {
     "data": {
      "text/plain": [
       "array([[10,  0],\n",
       "       [ 0, 99]], dtype=int64)"
      ]
     },
     "execution_count": 22,
     "metadata": {},
     "output_type": "execute_result"
    }
   ],
   "source": [
    "from sklearn.metrics import confusion_matrix\n",
    "confusion_matrix(y_test, y_pred)"
   ]
  },
  {
   "cell_type": "code",
   "execution_count": 23,
   "metadata": {},
   "outputs": [
    {
     "name": "stdout",
     "output_type": "stream",
     "text": [
      "[8.05914046e-02 1.95210910e-02 6.03964710e-02 4.12317565e-02\n",
      " 1.94090671e-02 1.09405827e-01 6.76165177e-04 9.99957718e-03\n",
      " 8.86792453e-03 4.02000373e-02 2.02847932e-02 3.97003859e-02\n",
      " 7.16298836e-02 7.06078302e-02 8.75333094e-03 0.00000000e+00\n",
      " 0.00000000e+00 8.97012357e-02 8.60055045e-03 0.00000000e+00\n",
      " 0.00000000e+00 0.00000000e+00 2.95595625e-04 9.95074382e-05\n",
      " 7.86483644e-04 9.98302885e-05 9.95520159e-05 3.93094079e-02\n",
      " 8.82246184e-04 0.00000000e+00 2.96354836e-04 0.00000000e+00\n",
      " 0.00000000e+00 2.95474645e-04 0.00000000e+00 0.00000000e+00\n",
      " 9.51972354e-03 9.95767986e-05 5.97019707e-02 0.00000000e+00\n",
      " 1.99277619e-04 0.00000000e+00 4.92780762e-04 9.95520159e-05\n",
      " 2.96691885e-04 0.00000000e+00 2.96208531e-04 3.91112286e-02\n",
      " 8.00000000e-02 9.99550202e-05 2.93220508e-02 2.90196230e-02\n",
      " 0.00000000e+00 0.00000000e+00 0.00000000e+00 9.90004498e-03\n",
      " 0.00000000e+00 0.00000000e+00 9.95321987e-05 0.00000000e+00\n",
      " 0.00000000e+00]\n"
     ]
    }
   ],
   "source": [
    "print(clf.feature_importances_)\n",
    "feature_imp = pd.Series(clf.feature_importances_,index=list(fe_boru.drop('outcome',axis=1).columns.values)).sort_values(ascending=False)"
   ]
  },
  {
   "cell_type": "code",
   "execution_count": 24,
   "metadata": {},
   "outputs": [
    {
     "data": {
      "image/png": "[encoded data removed]",
      "text/plain": [
       "<Figure size 720x720 with 1 Axes>"
      ]
     },
     "metadata": {
      "needs_background": "light"
     },
     "output_type": "display_data"
    }
   ],
   "source": [
    "import matplotlib.pyplot as plt\n",
    "import seaborn as sns\n",
    "%matplotlib inline\n",
    "plt.figure(figsize=(10,10))\n",
    "# Creating a bar plot\n",
    "\n",
    "sns_plot=sns.barplot(x=feature_imp, y=feature_imp.index)\n",
    "sns.set(font_scale=0.9)\n",
    "fig=sns_plot.get_figure()\n",
    "plt.xlabel('Feature Importance Score')\n",
    "plt.ylabel('Features')\n",
    "plt.title(\"Visualizing Important Features\")\n",
    "plt.show()\n",
    "fig.savefig('importance ranking for male')\n"
   ]
  },
  {
   "cell_type": "code",
   "execution_count": null,
   "metadata": {},
   "outputs": [],
   "source": []
  },
  {
   "cell_type": "code",
   "execution_count": null,
   "metadata": {},
   "outputs": [],
   "source": []
  },
  {
   "cell_type": "markdown",
   "metadata": {},
   "source": [
    "## adaboost with SMOTE"
   ]
  },
  {
   "cell_type": "code",
   "execution_count": 25,
   "metadata": {},
   "outputs": [
    {
     "name": "stdout",
     "output_type": "stream",
     "text": [
      "Original dataset shape Counter({1: 200, 0: 18})\n",
      "Resampled dataset shape Counter({0: 200, 1: 200})\n"
     ]
    }
   ],
   "source": [
    "# SMOTE\n",
    "print('Original dataset shape %s' % Counter(y_train))\n",
    "sm = SMOTE(random_state=101)\n",
    "X_train_sm, y_train_sm = sm.fit_sample(X_train, y_train)\n",
    "print('Resampled dataset shape %s' % Counter(y_train_sm))\n"
   ]
  },
  {
   "cell_type": "code",
   "execution_count": 26,
   "metadata": {},
   "outputs": [],
   "source": [
    "model = AdaBoostClassifier(n_estimators=100, random_state=101)\n",
    "m1=model.fit(X_train_sm, y_train_sm)\n",
    "y_smote = model.predict(X_test)\n"
   ]
  },
  {
   "cell_type": "code",
   "execution_count": 27,
   "metadata": {},
   "outputs": [
    {
     "name": "stdout",
     "output_type": "stream",
     "text": [
      "             precision    recall  f1-score   support\n",
      "\n",
      "          0       0.90      0.90      0.90        10\n",
      "          1       0.99      0.99      0.99        99\n",
      "\n",
      "avg / total       0.98      0.98      0.98       109\n",
      "\n"
     ]
    }
   ],
   "source": [
    "print(classification_report(y_test, y_smote))"
   ]
  },
  {
   "cell_type": "code",
   "execution_count": 28,
   "metadata": {},
   "outputs": [
    {
     "data": {
      "text/plain": [
       "array([[ 9,  1],\n",
       "       [ 1, 98]], dtype=int64)"
      ]
     },
     "execution_count": 28,
     "metadata": {},
     "output_type": "execute_result"
    }
   ],
   "source": [
    "from sklearn.metrics import confusion_matrix\n",
    "confusion_matrix(y_test, y_smote)"
   ]
  },
  {
   "cell_type": "code",
   "execution_count": 29,
   "metadata": {},
   "outputs": [
    {
     "name": "stdout",
     "output_type": "stream",
     "text": [
      "0.944949494949495\n"
     ]
    },
    {
     "data": {
      "text/plain": [
       "Text(0.5, 0, 'False Positive Rate')"
      ]
     },
     "execution_count": 29,
     "metadata": {},
     "output_type": "execute_result"
    },
    {
     "data": {
      "image/png": "[encoded data removed]",
      "text/plain": [
       "<Figure size 720x720 with 1 Axes>"
      ]
     },
     "metadata": {
      "needs_background": "light"
     },
     "output_type": "display_data"
    }
   ],
   "source": [
    "from sklearn.metrics import roc_curve, auc\n",
    "false_positive_rate, true_positive_rate, thresholds = roc_curve(y_test, y_smote)\n",
    "roc_auc = auc(false_positive_rate, true_positive_rate)\n",
    "print(roc_auc)\n",
    "\n",
    "import matplotlib.pyplot as plt\n",
    "%matplotlib inline\n",
    "\n",
    "plt.figure(figsize=(10,10))\n",
    "plt.title('Receiver Operating Characteristic')\n",
    "plt.plot(false_positive_rate,true_positive_rate, color='red',label = 'AUC = %0.2f' % roc_auc)\n",
    "plt.legend(loc = 'lower right')\n",
    "plt.plot([0, 1], [0, 1],linestyle='--')\n",
    "plt.axis('tight')\n",
    "plt.ylabel('True Positive Rate')\n",
    "plt.xlabel('False Positive Rate')"
   ]
  },
  {
   "cell_type": "code",
   "execution_count": null,
   "metadata": {},
   "outputs": [],
   "source": []
  },
  {
   "cell_type": "code",
   "execution_count": null,
   "metadata": {},
   "outputs": [],
   "source": []
  },
  {
   "cell_type": "code",
   "execution_count": null,
   "metadata": {},
   "outputs": [],
   "source": []
  },
  {
   "cell_type": "code",
   "execution_count": null,
   "metadata": {},
   "outputs": [],
   "source": []
  },
  {
   "cell_type": "markdown",
   "metadata": {},
   "source": [
    "## RF with SMOTE"
   ]
  },
  {
   "cell_type": "code",
   "execution_count": 30,
   "metadata": {},
   "outputs": [],
   "source": [
    "from sklearn.ensemble import RandomForestClassifier"
   ]
  },
  {
   "cell_type": "code",
   "execution_count": 31,
   "metadata": {},
   "outputs": [],
   "source": [
    "clf = RandomForestClassifier(n_estimators=100, max_depth=2,\n",
    "                               random_state=101)\n",
    "m2=clf.fit(X_train_sm, y_train_sm)"
   ]
  },
  {
   "cell_type": "code",
   "execution_count": 32,
   "metadata": {},
   "outputs": [],
   "source": [
    "y_pred=clf.predict(X_test)"
   ]
  },
  {
   "cell_type": "code",
   "execution_count": 33,
   "metadata": {},
   "outputs": [
    {
     "name": "stdout",
     "output_type": "stream",
     "text": [
      "             precision    recall  f1-score   support\n",
      "\n",
      "          0       1.00      1.00      1.00        10\n",
      "          1       1.00      1.00      1.00        99\n",
      "\n",
      "avg / total       1.00      1.00      1.00       109\n",
      "\n"
     ]
    }
   ],
   "source": [
    "print(classification_report(y_test, y_pred))"
   ]
  },
  {
   "cell_type": "code",
   "execution_count": 34,
   "metadata": {},
   "outputs": [
    {
     "name": "stdout",
     "output_type": "stream",
     "text": [
      "[8.03974340e-02 1.95210517e-02 6.01994046e-02 4.07692308e-02\n",
      " 9.70218247e-03 1.09405827e-01 6.76165177e-04 2.00000000e-02\n",
      " 9.23076923e-03 4.02999901e-02 2.02847932e-02 3.97003859e-02\n",
      " 7.09741871e-02 6.94065028e-02 1.91112140e-02 0.00000000e+00\n",
      " 0.00000000e+00 7.99993443e-02 0.00000000e+00 0.00000000e+00\n",
      " 0.00000000e+00 0.00000000e+00 2.95595625e-04 9.95074382e-05\n",
      " 6.90279665e-04 9.98302885e-05 9.95520159e-05 3.93094079e-02\n",
      " 8.82246184e-04 0.00000000e+00 2.96354836e-04 0.00000000e+00\n",
      " 0.00000000e+00 2.95633020e-04 0.00000000e+00 0.00000000e+00\n",
      " 9.51972354e-03 9.95767986e-05 5.95039362e-02 9.96366180e-05\n",
      " 1.99277619e-04 0.00000000e+00 4.92780762e-04 9.95520159e-05\n",
      " 2.96691885e-04 0.00000000e+00 2.96208531e-04 4.94029336e-02\n",
      " 8.00000000e-02 9.99550202e-05 2.91236381e-02 2.90196230e-02\n",
      " 0.00000000e+00 0.00000000e+00 0.00000000e+00 9.90004498e-03\n",
      " 0.00000000e+00 0.00000000e+00 9.95321987e-05 0.00000000e+00\n",
      " 0.00000000e+00]\n"
     ]
    }
   ],
   "source": [
    "print(clf.feature_importances_)\n",
    "feature_imp = pd.Series(clf.feature_importances_,index=list(fe_boru.drop('outcome',axis=1).columns.values)).sort_values(ascending=False)"
   ]
  },
  {
   "cell_type": "code",
   "execution_count": 35,
   "metadata": {},
   "outputs": [
    {
     "data": {
      "text/plain": [
       "array([[10,  0],\n",
       "       [ 0, 99]], dtype=int64)"
      ]
     },
     "execution_count": 35,
     "metadata": {},
     "output_type": "execute_result"
    }
   ],
   "source": [
    "from sklearn.metrics import confusion_matrix\n",
    "confusion_matrix(y_test, y_pred)"
   ]
  },
  {
   "cell_type": "code",
   "execution_count": 36,
   "metadata": {
    "scrolled": false
   },
   "outputs": [
    {
     "data": {
      "image/png": "[encoded data removed]",
      "text/plain": [
       "<Figure size 720x720 with 1 Axes>"
      ]
     },
     "metadata": {
      "needs_background": "light"
     },
     "output_type": "display_data"
    }
   ],
   "source": [
    "import matplotlib.pyplot as plt\n",
    "import seaborn as sns\n",
    "%matplotlib inline\n",
    "plt.figure(figsize=(10,10))\n",
    "# Creating a bar plot\n",
    "\n",
    "sns_plot=sns.barplot(x=feature_imp, y=feature_imp.index)\n",
    "sns.set(font_scale=0.9)\n",
    "fig=sns_plot.get_figure()\n",
    "plt.xlabel('Feature Importance Score')\n",
    "plt.ylabel('Features')\n",
    "plt.title(\"Visualizing Important Features\")\n",
    "plt.show()\n",
    "fig.savefig('importance ranking for male')\n"
   ]
  },
  {
   "cell_type": "code",
   "execution_count": 37,
   "metadata": {},
   "outputs": [
    {
     "name": "stdout",
     "output_type": "stream",
     "text": [
      "1.0\n"
     ]
    },
    {
     "data": {
      "text/plain": [
       "Text(0.5, 0, 'False Positive Rate')"
      ]
     },
     "execution_count": 37,
     "metadata": {},
     "output_type": "execute_result"
    },
    {
     "data": {
      "image/png": "[encoded data removed]",
      "text/plain": [
       "<Figure size 720x720 with 1 Axes>"
      ]
     },
     "metadata": {
      "needs_background": "light"
     },
     "output_type": "display_data"
    }
   ],
   "source": [
    "from sklearn.metrics import roc_curve, auc\n",
    "false_positive_rate, true_positive_rate, thresholds = roc_curve(y_test, y_pred)\n",
    "roc_auc = auc(false_positive_rate, true_positive_rate)\n",
    "print(roc_auc)\n",
    "\n",
    "import matplotlib.pyplot as plt\n",
    "%matplotlib inline\n",
    "\n",
    "plt.figure(figsize=(10,10))\n",
    "plt.title('Receiver Operating Characteristic')\n",
    "plt.plot(false_positive_rate,true_positive_rate, color='red',label = 'AUC = %0.2f' % roc_auc)\n",
    "plt.legend(loc = 'lower right')\n",
    "plt.plot([0, 1], [0, 1],linestyle='--')\n",
    "plt.axis('tight')\n",
    "plt.ylabel('True Positive Rate')\n",
    "plt.xlabel('False Positive Rate')"
   ]
  },
  {
   "cell_type": "code",
   "execution_count": null,
   "metadata": {},
   "outputs": [],
   "source": []
  },
  {
   "cell_type": "code",
   "execution_count": null,
   "metadata": {},
   "outputs": [],
   "source": []
  },
  {
   "cell_type": "code",
   "execution_count": null,
   "metadata": {},
   "outputs": [],
   "source": []
  },
  {
   "cell_type": "code",
   "execution_count": null,
   "metadata": {},
   "outputs": [],
   "source": []
  }
 ],
 "metadata": {
  "kernelspec": {
   "display_name": "Python 3",
   "language": "python",
   "name": "python3"
  },
  "language_info": {
   "codemirror_mode": {
    "name": "ipython",
    "version": 3
   },
   "file_extension": ".py",
   "mimetype": "text/x-python",
   "name": "python",
   "nbconvert_exporter": "python",
   "pygments_lexer": "ipython3",
   "version": "3.7.0"
  }
 },
 "nbformat": 4,
 "nbformat_minor": 2
}
